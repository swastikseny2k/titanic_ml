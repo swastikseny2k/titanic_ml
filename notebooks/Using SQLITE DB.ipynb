{
 "cells": [
  {
   "cell_type": "code",
   "execution_count": 1,
   "metadata": {},
   "outputs": [],
   "source": [
    "#import sqlite3 package\n",
    "import sqlite3"
   ]
  },
  {
   "cell_type": "code",
   "execution_count": 2,
   "metadata": {},
   "outputs": [],
   "source": [
    "# Create connection to DB: creates DB if not available\n",
    "connection = sqlite3.connect(\"classroomDB.db\")\n",
    "connection.close()"
   ]
  },
  {
   "cell_type": "code",
   "execution_count": 6,
   "metadata": {},
   "outputs": [
    {
     "ename": "OperationalError",
     "evalue": "table classroom already exists",
     "output_type": "error",
     "traceback": [
      "\u001b[0;31m---------------------------------------------------------------------------\u001b[0m",
      "\u001b[0;31mOperationalError\u001b[0m                          Traceback (most recent call last)",
      "\u001b[0;32m<ipython-input-6-2a7c9588984d>\u001b[0m in \u001b[0;36m<module>\u001b[0;34m()\u001b[0m\n\u001b[1;32m     17\u001b[0m \u001b[0;34m\u001b[0m\u001b[0m\n\u001b[1;32m     18\u001b[0m \u001b[0;31m# execute query\u001b[0m\u001b[0;34m\u001b[0m\u001b[0;34m\u001b[0m\u001b[0m\n\u001b[0;32m---> 19\u001b[0;31m \u001b[0mcursor\u001b[0m\u001b[0;34m.\u001b[0m\u001b[0mexecute\u001b[0m\u001b[0;34m(\u001b[0m\u001b[0mcreate_table\u001b[0m\u001b[0;34m)\u001b[0m\u001b[0;34m\u001b[0m\u001b[0m\n\u001b[0m\u001b[1;32m     20\u001b[0m \u001b[0;34m\u001b[0m\u001b[0m\n\u001b[1;32m     21\u001b[0m \u001b[0;31m# commit changes\u001b[0m\u001b[0;34m\u001b[0m\u001b[0;34m\u001b[0m\u001b[0m\n",
      "\u001b[0;31mOperationalError\u001b[0m: table classroom already exists"
     ]
    }
   ],
   "source": [
    "# open connection\n",
    "connection = sqlite3.connect(\"classroomDB.db\")\n",
    "\n",
    "# open cursor\n",
    "cursor = connection.cursor()\n",
    "\n",
    "# query\n",
    "create_table = \"\"\"\n",
    "                CREATE TABLE classroom (\n",
    "                    student_id INTEGER PRIMARY KEY,\n",
    "                    name VARCHAR(20),\n",
    "                    gender CHAR(1),\n",
    "                    physics_marks INTEGER,\n",
    "                    chemistry_marks INTEGER,\n",
    "                    mathematics_marks INTEGER\n",
    "                );\"\"\"\n",
    "\n",
    "# execute query\n",
    "cursor.execute(create_table)\n",
    "\n",
    "# commit changes\n",
    "connection.commit()\n",
    "\n",
    "# close connection\n",
    "connection.close()"
   ]
  },
  {
   "cell_type": "code",
   "execution_count": 8,
   "metadata": {},
   "outputs": [],
   "source": [
    "# sample data\n",
    "sample_data = [(1, 'Swastik', 'M', 90, 87, 88),\n",
    "              (2, 'Ritu', 'F', 90, 98, 92),\n",
    "              (3, 'Swarit', 'M', 89, 82, 76)]\n",
    "\n",
    "# open connection\n",
    "connection = sqlite3.connect(\"classroomDB.db\")\n",
    "\n",
    "# open cursor\n",
    "cursor = connection.cursor()\n",
    "\n",
    "# insert student record\n",
    "for student in sample_data:\n",
    "    insert_statement = \"\"\"INSERT INTO classroom\n",
    "                            (student_id, name, gender, physics_marks, chemistry_marks, mathematics_marks)\n",
    "                            VALUES \n",
    "                            ({0},\"{1}\",\"{2}\",{3},{4},{5})\"\"\".format(student[0], student[1], student[2], student[3], student[4], student[5])\n",
    "    cursor.execute(insert_statement)\n",
    "    \n",
    "# commit changes\n",
    "connection.commit()\n",
    "\n",
    "# close connection\n",
    "connection.close()"
   ]
  },
  {
   "cell_type": "code",
   "execution_count": 9,
   "metadata": {},
   "outputs": [
    {
     "name": "stdout",
     "output_type": "stream",
     "text": [
      "(1, 'Swastik', 'M', 90, 87, 88)\n",
      "(2, 'Ritu', 'F', 90, 98, 92)\n",
      "(3, 'Swarit', 'M', 89, 82, 76)\n"
     ]
    }
   ],
   "source": [
    "# open connection\n",
    "connection = sqlite3.connect(\"classroomDB.db\")\n",
    "\n",
    "# open cursor\n",
    "cursor = connection.cursor()\n",
    "\n",
    "# query\n",
    "create_table = \"SELECT * FROM classroom\"\n",
    "\n",
    "# execute query\n",
    "cursor.execute(create_table)\n",
    "\n",
    "# Fetch data\n",
    "result = cursor.fetchall()\n",
    "\n",
    "# print result\n",
    "for row in result:\n",
    "    print(row)\n",
    "\n",
    "# close connection\n",
    "connection.close()"
   ]
  },
  {
   "cell_type": "code",
   "execution_count": null,
   "metadata": {},
   "outputs": [],
   "source": []
  }
 ],
 "metadata": {
  "kernelspec": {
   "display_name": "Python 3",
   "language": "python",
   "name": "python3"
  },
  "language_info": {
   "codemirror_mode": {
    "name": "ipython",
    "version": 3
   },
   "file_extension": ".py",
   "mimetype": "text/x-python",
   "name": "python",
   "nbconvert_exporter": "python",
   "pygments_lexer": "ipython3",
   "version": "3.6.4"
  }
 },
 "nbformat": 4,
 "nbformat_minor": 2
}
